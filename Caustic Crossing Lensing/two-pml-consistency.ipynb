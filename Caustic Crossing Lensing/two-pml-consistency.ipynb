{
 "cells": [
  {
   "cell_type": "markdown",
   "id": "8f8a2906-88d4-49b4-becd-70e09f2e5e97",
   "metadata": {},
   "source": [
    "# Consistency of applying the formalism of caustic lensing using shear with two point mass lenses\n",
    "\n",
    "The lens potential of a two point mass lens system is given as:\n",
    "$$\n",
    "\\psi = \\theta_m^2 \\ln\\sqrt{\\theta_1^2 + \\theta_2^2} + \\theta_M^2 \\ln\\sqrt{\\theta_1^2 + (\\theta_2-R)^2}\n",
    "$$\n",
    "Assuming $\\theta_1,\\theta_2\\ll R$, we can expand the lens potential to give something of form:\n",
    "$$\n",
    "\\psi = \\theta_m^2 \\ln\\sqrt{\\theta_1^2 + \\theta_2^2} + \\theta_M^2 \\ln(R) + \\theta_M^2 \\left(\\frac{-\\theta_2}{R}\\right) + \\frac{1}{2} \\left(\\frac{\\theta_M}{R} \\right)^2 \\left(\\theta_1^2 - \\theta_2^2\\right)\n",
    "$$\n",
    "\n",
    "However, according to Oguri (2017), the size of the critical curves (i.e. the angular size relavent during caustic crossing event) scale according to:\n",
    "$$\n",
    "\\theta \\sim \\frac{\\sqrt{|\\mu_t|}}{8} \\theta_m\n",
    "$$\n",
    "Here high tangential magnification is assumed. Furthermore, we know that the shear $\\gamma$, according to the Taylor expansion above, is simply:\n",
    "\n",
    "\\begin{align*}\n",
    "\\kappa &= 0\\\\\n",
    "\\gamma &= \\left(\\frac{\\theta_M}{R}\\right)^2\n",
    "\\end{align*}\n",
    "\n",
    "and the tangential magnification is given as:\n",
    "$$\n",
    "\\mu_t^{-1} = 1 -\\kappa - \\gamma\\\\\n",
    "\\mu_r^{-1} = 1 -\\kappa + \\gamma\n",
    "$$\n",
    "Anyway, if we proceed and try to evaluate the consistency using the size of the critical curves, we will get:\n",
    "\\begin{align*}\n",
    "\\frac{\\theta_m}{8\\sqrt{1-\\gamma}}\\ll R\n",
    "\\end{align*}\n",
    "Or \n",
    "$$\n",
    "\\frac{\\theta_m/R}{8\\sqrt{1-(\\theta_M/R)^2}}\\ll 1\n",
    "$$\n",
    "This is ok so long as $\\theta_E$ is small enough. The magnification is tuned by $\\theta_M/R$\n",
    "<!--This might or might not be consistent depending on how you look at it. On the one hand if you have large magnification it seems like there are no way for the relations to hold because $\\gamma\\sim 1$ in that case but on the other hand if you keep the $\\mu_t$ and arrange it the other way it seems like you can do it with $\\theta_E/R\\ll 1/\\mu_t$. So here we will look at a numerical example to learn more about each cases.-->\n",
    "\n",
    "Note that constraints in $\\mu_t$ in turns give us constraints on the other quantities and ultimately the physical parameters. "
   ]
  },
  {
   "cell_type": "markdown",
   "id": "b290c9bb-1c3e-44b6-bdc2-3c8bdf4da8a8",
   "metadata": {},
   "source": [
    "## Some scale analysis\n",
    "Recall the Einstein radius $\\theta_E$ is given by:\n",
    "\n",
    "\\begin{equation}\n",
    "\\theta_E = 2.854 \\times 10^{-3} \\text{ arcsec} \\,\\left(\\frac{M}{M_\\odot}\\right)^{1/2} \\left(\\frac{D_L}{\\text{1 kpc}}\\right)^{-1/2}\n",
    "\\end{equation}\n",
    "\n",
    "The Sgr A* is of $M \\sim 4.31 \\times 10^6 M_\\odot$ and $D_L\\sim 8.2 \\text{kpc}$"
   ]
  },
  {
   "cell_type": "code",
   "execution_count": 6,
   "id": "6101a6e3-68d4-42b8-abec-d71d5282dfa6",
   "metadata": {},
   "outputs": [],
   "source": [
    "def EinsteinRadius(M,DL):\n",
    "    # Scales: M/M_sun, D/1kpc\n",
    "    return 2.854e-3*(M**(1/2))*(DL**(-1/2)) # arcsec"
   ]
  },
  {
   "cell_type": "code",
   "execution_count": 3,
   "id": "c31eb3b1-6719-4472-b940-24c98014b9ca",
   "metadata": {},
   "outputs": [],
   "source": [
    "import numpy as np\n",
    "import matplotlib.pyplot as plt"
   ]
  },
  {
   "cell_type": "code",
   "execution_count": 12,
   "id": "4da7e778-5510-43cc-b904-b81f8c6cbbe6",
   "metadata": {},
   "outputs": [],
   "source": [
    "M_sgr = 4.31e6 # M_sun\n",
    "D_sgr = 8.2 # kpc"
   ]
  },
  {
   "cell_type": "code",
   "execution_count": 14,
   "id": "bfaf75cf-2d39-4d7f-ac8d-5b4b0ab0d13d",
   "metadata": {},
   "outputs": [
    {
     "data": {
      "text/plain": [
       "2.0691199955772412"
      ]
     },
     "execution_count": 14,
     "metadata": {},
     "output_type": "execute_result"
    }
   ],
   "source": [
    "thetaE_sgr = EinsteinRadius(M_sgr,D_sgr) # arcsec\n",
    "thetaE_sgr"
   ]
  },
  {
   "cell_type": "code",
   "execution_count": 9,
   "id": "86063c68-37f2-4bed-a72b-b62f1a734c77",
   "metadata": {},
   "outputs": [],
   "source": [
    "def arcsec2rad(theta):\n",
    "    return (theta/3600)*np.pi/180"
   ]
  },
  {
   "cell_type": "code",
   "execution_count": 11,
   "id": "cf41cdf7-64cd-48f0-a127-4995cbcd6c76",
   "metadata": {},
   "outputs": [],
   "source": [
    "def kpc2au(dist):\n",
    "    return dist*2.063e8 #au"
   ]
  },
  {
   "cell_type": "code",
   "execution_count": 18,
   "id": "6dc18ad1-5e1c-45e7-8443-ad2635024550",
   "metadata": {},
   "outputs": [
    {
     "data": {
      "text/plain": [
       "8.225728990047823e-05"
      ]
     },
     "execution_count": 18,
     "metadata": {},
     "output_type": "execute_result"
    }
   ],
   "source": [
    "dist = arcsec2rad(thetaE_sgr)*D_sgr # kpc\n",
    "dist"
   ]
  },
  {
   "cell_type": "code",
   "execution_count": 99,
   "id": "f019edf8-f35e-4853-8a21-3d366331c287",
   "metadata": {},
   "outputs": [
    {
     "data": {
      "text/plain": [
       "16969.678906468656"
      ]
     },
     "execution_count": 99,
     "metadata": {},
     "output_type": "execute_result"
    }
   ],
   "source": [
    "kpc2au(dist) # au"
   ]
  },
  {
   "cell_type": "markdown",
   "id": "eb1089a1-dab1-4dc2-8d3f-d3faca19988d",
   "metadata": {},
   "source": [
    "But what should we reference that to? We look at the Sgr A* cluster. The typical values appears to be from 0.2 arcsec to 4.0 arcsec. This gives the values of $\\gamma$ to be:"
   ]
  },
  {
   "cell_type": "code",
   "execution_count": 86,
   "id": "f50ee85c-d10c-4bb5-a8d1-7426cc997c56",
   "metadata": {},
   "outputs": [],
   "source": [
    "eps=0.5\n",
    "R = np.geomspace(thetaE_sgr-eps,thetaE_sgr+eps,1000)"
   ]
  },
  {
   "cell_type": "code",
   "execution_count": 87,
   "id": "e8e6b0f2-d713-42a0-b18e-2ad351ce9896",
   "metadata": {},
   "outputs": [
    {
     "data": {
      "text/plain": [
       "array([1.73883768, 1.57539886, 1.42732217, 1.29316368, 1.17161516,\n",
       "       1.06149137, 0.96171846, 0.87132352, 0.78942508, 0.71522454])"
      ]
     },
     "execution_count": 87,
     "metadata": {},
     "output_type": "execute_result"
    }
   ],
   "source": [
    "gammas = (thetaE_sgr/R)**2\n",
    "gammas[::100]"
   ]
  },
  {
   "cell_type": "markdown",
   "id": "2350f240-8d0e-4b2c-bfcf-18f04ee624a4",
   "metadata": {},
   "source": [
    "This translate to magnification:"
   ]
  },
  {
   "cell_type": "code",
   "execution_count": 88,
   "id": "4e9f70b2-25f5-4408-b217-205b83978a3b",
   "metadata": {},
   "outputs": [
    {
     "data": {
      "text/plain": [
       "array([ -1.35347727,  -1.73792489,  -2.34015473,  -3.4110638 ,\n",
       "        -5.82699111, -16.26244523,  26.12225018,   7.77142793,\n",
       "         4.7489037 ,   3.51153852])"
      ]
     },
     "execution_count": 88,
     "metadata": {},
     "output_type": "execute_result"
    }
   ],
   "source": [
    "mu = (1-gammas)**(-1)\n",
    "mu[::100]"
   ]
  },
  {
   "cell_type": "code",
   "execution_count": 91,
   "id": "7a92ae4f-0d12-4ca9-a4af-a29052ca29cb",
   "metadata": {},
   "outputs": [
    {
     "data": {
      "image/png": "[encoded data removed]",
      "text/plain": [
       "<Figure size 432x288 with 1 Axes>"
      ]
     },
     "metadata": {
      "needs_background": "light"
     },
     "output_type": "display_data"
    }
   ],
   "source": [
    "idc1 = np.where(R<thetaE_sgr)\n",
    "idc2 = np.where(R>thetaE_sgr)\n",
    "plt.plot(R[idc1],mu[idc1],color='tab:blue')\n",
    "plt.plot(R[idc2],mu[idc2],color='tab:blue')\n",
    "plt.ylim(-1000,1000)\n",
    "plt.axvline(thetaE_sgr,ls='--',color='grey')\n",
    "plt.grid()\n",
    "plt.ylabel(r'Magnification $\\mu_t$')\n",
    "plt.xlabel(r'Distance to Sgr A* [arcsec]')\n",
    "plt.yscale('symlog')\n",
    "#plt.xscale('log')"
   ]
  },
  {
   "cell_type": "markdown",
   "id": "f91e954c-8d5d-404d-8e85-35c6cecf6caa",
   "metadata": {},
   "source": [
    "As shown in the figure, the magnification changes rapidly with angular separation, so we need to ensure during the time scale of crossing the magnification does not change rapidly."
   ]
  },
  {
   "cell_type": "markdown",
   "id": "34e63813-ca49-482e-b19c-56e54845e0e5",
   "metadata": {},
   "source": [
    "The bound above also give us an upper bound of microlens mass so that the result is consistent with the macro-microlens picture.\n",
    "Suppose we have magnification (tangential) to be of order 1000, what will be the upper bound in microlens mass? Well, we do the consistency calculation:\n",
    "\n",
    "\\begin{align*}\n",
    "\\theta_m&\\ll \\frac{8R}{\\sqrt{|\\mu_t|}}\\\\\n",
    "& = 0.505\\text{ arcsec} \\left(\\frac{R}{\\text{2''}}\\right) \\left(\\frac{\\mu_t}{1000}\\right)^{-1/2}\n",
    "\\end{align*}\n",
    "\n",
    "But for stars of $1-10 M_\\odot$ and in Sgr A* distances the Einstein radius is of order of milliarcsecond. Therefore the approximation is justified."
   ]
  },
  {
   "cell_type": "code",
   "execution_count": 100,
   "id": "7519e3ec-6f06-4ee9-9841-9a669142b6b4",
   "metadata": {},
   "outputs": [
    {
     "data": {
      "text/plain": [
       "0.5059644256269407"
      ]
     },
     "execution_count": 100,
     "metadata": {},
     "output_type": "execute_result"
    }
   ],
   "source": [
    "8*2/np.sqrt(1000) # theta_m consistency bound"
   ]
  },
  {
   "cell_type": "code",
   "execution_count": 101,
   "id": "8f0133e5-dcdb-4745-9e4d-8291d06c629f",
   "metadata": {},
   "outputs": [
    {
     "data": {
      "text/plain": [
       "(0.0009966600320631882, 0.003151715754176121)"
      ]
     },
     "execution_count": 101,
     "metadata": {},
     "output_type": "execute_result"
    }
   ],
   "source": [
    "EinsteinRadius(1,D_sgr),EinsteinRadius(10,D_sgr) # Probing the Einstein radius of stars orbiting Sgr A*"
   ]
  },
  {
   "cell_type": "code",
   "execution_count": null,
   "id": "29b2b82f-a618-48f6-aed9-f3ec5ae6e303",
   "metadata": {},
   "outputs": [],
   "source": []
  },
  {
   "cell_type": "code",
   "execution_count": null,
   "id": "67997cd9-d4f8-4cd5-8127-067053e53eac",
   "metadata": {},
   "outputs": [],
   "source": []
  }
 ],
 "metadata": {
  "kernelspec": {
   "display_name": "Python 3 (ipykernel)",
   "language": "python",
   "name": "python3"
  },
  "language_info": {
   "codemirror_mode": {
    "name": "ipython",
    "version": 3
   },
   "file_extension": ".py",
   "mimetype": "text/x-python",
   "name": "python",
   "nbconvert_exporter": "python",
   "pygments_lexer": "ipython3",
   "version": "3.8.13"
  }
 },
 "nbformat": 4,
 "nbformat_minor": 5
}
