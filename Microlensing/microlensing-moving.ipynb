{
 "cells": [
  {
   "cell_type": "markdown",
   "id": "81d1a43e-a309-4cdf-a9d4-852ede2e9155",
   "metadata": {},
   "source": [
    "# Microlensing waveform for moving lens\n",
    "\n",
    "## Assumption:\n",
    "1. The source part of the time delay variation cannot be taken into account because they are common to both images (i.e. it can be factored into the source waveform)\n",
    "2. Assume monochromatic waves to begin with\n",
    "\n",
    "## Goal:\n",
    "1. Work out the frequency and time domain waveform for both cases\n",
    "2. Figure out the detection criteria and compared it with Liao et. al. (2019)\n",
    "\n",
    "\n",
    "## Derivations:\n",
    "Recall the lensed waveform is: \n",
    "$$\n",
    "h_L(f) = F(f;t) \\,h(f)\n",
    "$$\n",
    "\n",
    "The source waveform in time domain is:\n",
    "$$\n",
    "h(t) = A\\cos(2\\pi f_0 (t-t_0))\n",
    "$$\n",
    "Therefore the frequency domain waveform is (We just plot $f>0$ because the $-f$ part can be obtained by reflection + complex conjugate)\n",
    "\n",
    "$$\n",
    "h(f) = \\frac{A}{2} \\delta(f-f_0) e^{-2\\pi f i t_0}\n",
    "$$\n",
    "\n",
    "Therefore the time domain, lensed waveform is:\n",
    "\n",
    "$$\n",
    "h_L(t) = \\int_0^{\\infty} F(f;t) \\frac{A}{2} \\delta(f-f_0) e^{-2\\pi f i t_0} e^{2\\pi i f}df + \\text{C.C.}\n",
    "$$\n",
    "where C.C. is the complex conjugate. At the end we get:\n",
    "\n",
    "$$\n",
    "h_L(t) = F(f_0;t) \\frac{A}{2} e^{2\\pi f i (t-t_0)} + \\text{C.C.}\n",
    "$$\n",
    "\n",
    "Because of the complex conjugate, we simply have to calculate the real part of the thing here:\n",
    "$$\n",
    "h_L(t) = \\text{Re} \\{F(f_0;t) A e^{2\\pi f i (t-t_0)}\\}\n",
    "$$\n",
    "\n",
    "It is tempting to just copy the results from Nakahashi et. al., but this is wrong because they normalize the time delay by a $y$ dependent factor so that the time of arrivial for the first image is always $0$. This cannot be the case for moving lens because in this situation the relative time delay between different source position matters.\n",
    "\n",
    "Keep in mind that the time delay is:\n",
    "$$\n",
    "t_d \\propto \\frac{1}{2} \\left|\\vec x - \\vec y\\right|^2 - \\psi \\left(\\vec x\\right) + \\phi \\left(\\vec y\\right)\n",
    "$$\n",
    "The main difference between us and Takahashi is that they choose $\\phi$ in such a way so that the first image is always $t_d=0$. Also this is different from diffraction because for diffraction we only need to determine the relative frequency evolution to determine the coherence time. But we do not want that for microlensing, therefore, we simply set a fixed $\\vec y$ for $\\phi(\\vec y)$. This means in the geometric limit, the magnification factor will becomes:\n",
    "\n",
    "$$\n",
    "F_g(f) = |\\mu_+\\left(\\vec x_+, \\vec y(t)\\right)|^{1/2}\\exp(2\\pi i f_0 t_d\\left(\\vec x_+, \\vec y(t)\\right) - i|\\mu_-\\left(\\vec x_+, \\vec y(t)\\right)|^{1/2} \\exp(2\\pi i f_0 t_d\\left(\\vec x_-, \\vec y(t)\\right))\n",
    "$$\n",
    "\n",
    "Therefore, the lensed waveform becomes:\n",
    "\n",
    "\\begin{align*}\n",
    "h_L(t) &= \\text{Re} \\{\\left[|\\mu_+(t)|^{1/2}\\exp(2\\pi i f_0 t^{(1)}_d(t)) - i|\\mu_-(t)|^{1/2} \\exp(2\\pi i f_0 t^{(2)}_d(t)) \\right] Ae^{2\\pi f_0 i (t-t_0)}\\}\\\\\n",
    "&= |\\mu_+(t)|^{1/2} A \\cos(2\\pi f_0 (t-t_0+t^{(1)}_d(t))) + |\\mu_-(t)|^{1/2}A\\sin(2\\pi f_0 (t-t_0+t^{(2)}_d(t)))\\\\\n",
    "\\end{align*}\n",
    "\n",
    "Let $y_0$ be the source position when the source is closest to the lens. We will normalize our time such that that time is zero.\n",
    "\n",
    "For the microlensing model, we must first write out the source position as a function of time. In particular, we shall let:\n",
    "\n",
    "$$\n",
    "y(t) = \\sqrt{y_0^2 + (t/t_E)^2}\n",
    "$$\n",
    "Here we have normalized the unit so that time are measured in Einstein crossing time. Since $t$ is measured in Einstein crossing time $t_E$, then frequency, should be measured in $f=\\nu\\,/t_E$ where $t_E$ is the Einstein crossing time.\n",
    "\n",
    "The waveform have two things that came into play (in geometric limit)\n",
    "1. The time delay frequency modulation\n",
    "2. Interference between the two waves (For a fixed point in space that cannot be resolved, but if you move across the fringes you can see the spatial interference)\n",
    "\n",
    "\n",
    "Free variables in the system: $M_L$, $z_L$, $z_s$, $v$, $y_0$, $H_0$, $f_0$, $A$"
   ]
  },
  {
   "cell_type": "markdown",
   "id": "ab25b00f-2e30-449f-95f5-6543729dd6c7",
   "metadata": {},
   "source": [
    "## Step 1: Plot some waveforms that include only the frequency modulation\n",
    "\n",
    "We can set $A=1$, we can set $\\theta_E=1$. We take $M_L \\approx 50 M_\\odot$, $f_0\\approx 1000 \\text{ Hz}$. Then we have freedom to choose how fast the lens is moving $v=1/t_E$, which in our units translate to an angular velocity, characterizing how much $\\theta_E$ it travels per second. Let's do order of magnitude estimation on the parameters:\n",
    "\n",
    "\\begin{align*}\n",
    "t_E = \\text{164.7 days} \\left(\\frac{v}{300 \\text{km/s}}\\right)^{-1} \\left(\\frac{M_L}{100 M_\\odot}\\right)^{1/2} \\left(\\frac{D}{\\text{1 kpc}}\\right)^{1/2}\n",
    "\\end{align*}\n",
    "\n",
    "\\begin{align*}\n",
    "t_d \\approx 1.97 \\text{ ms} \\left(\\frac{M_L}{100 M_\\odot}\\right)\n",
    "\\end{align*}\n",
    "\n",
    "Remark: I think the $t_d$ should at least scale with $y_0$"
   ]
  },
  {
   "cell_type": "code",
   "execution_count": 1,
   "id": "a722bfe3-f9f4-4674-97c0-e7e85fc01975",
   "metadata": {},
   "outputs": [],
   "source": [
    "import numpy as np\n",
    "import matplotlib.pyplot as plt\n"
   ]
  },
  {
   "cell_type": "code",
   "execution_count": 4,
   "id": "3c8f7297-a9e8-4d52-92fb-46e221190ee7",
   "metadata": {},
   "outputs": [],
   "source": [
    "def img_pos(src_pos):\n",
    "    k = np.sqrt(src_pos**2 + 4)\n",
    "    return 0.5*(src_pos+k), 0.5*(src_pos-k)"
   ]
  },
  {
   "cell_type": "code",
   "execution_count": 6,
   "id": "8c4b06f9-6409-469c-b5ac-e81db97682d0",
   "metadata": {},
   "outputs": [],
   "source": [
    "def _time_delay(x,y):\n",
    "    # Time delay normalized by 4ML\n",
    "    return 0.5*(x-y)**2 - np.log(np.abs(x))"
   ]
  },
  {
   "cell_type": "code",
   "execution_count": 36,
   "id": "5449e7cd-00f3-4842-a803-45e419c7ab1d",
   "metadata": {},
   "outputs": [],
   "source": [
    "def td(x,y,y0):\n",
    "    # Normalized time delay\n",
    "    x0,_ = img_pos(y0)\n",
    "    td0 = _time_delay(x0,y0)\n",
    "    return _time_delay(x,y)-td0"
   ]
  },
  {
   "cell_type": "code",
   "execution_count": 46,
   "id": "86d7fd71-6ca4-4b02-833e-ebd87bf5cb13",
   "metadata": {},
   "outputs": [],
   "source": [
    "def mu(y):\n",
    "    k = (y*y+2)/(2*y*np.sqrt(y*y+4))\n",
    "    return np.abs(0.5+k), np.abs(0.5-k)"
   ]
  },
  {
   "cell_type": "code",
   "execution_count": 47,
   "id": "e97705d9-286f-4270-9bc7-c14fb4f05c5c",
   "metadata": {},
   "outputs": [],
   "source": [
    "def mu_rt(y):\n",
    "    mu_p, mu_m = mu(y)\n",
    "    return np.sqrt(mu_p), np.sqrt(mu_m)"
   ]
  },
  {
   "cell_type": "code",
   "execution_count": 44,
   "id": "7260ed46-25b5-405b-8487-b44ed8bda722",
   "metadata": {},
   "outputs": [
    {
     "data": {
      "text/plain": [
       "(-1.0, 1.0)"
      ]
     },
     "execution_count": 44,
     "metadata": {},
     "output_type": "execute_result"
    },
    {
     "data": {
      "image/png": "[encoded data removed]",
      "text/plain": [
       "<Figure size 432x288 with 1 Axes>"
      ]
     },
     "metadata": {
      "needs_background": "light"
     },
     "output_type": "display_data"
    }
   ],
   "source": [
    "for y0 in [0.1,0.5,1,2,4]:\n",
    "    ll =  np.linspace(-1,1,1000)\n",
    "    yy = np.sqrt(y0**2 + ll**2)\n",
    "    line,  = plt.plot(ll,td(img_pos(yy)[0],yy,y0),label=r'$y_0$='+f'{y0}')\n",
    "    plt.plot(ll,td(img_pos(yy)[1],yy,y0),ls='--',color=line.get_color())\n",
    "plt.legend()\n",
    "plt.ylim(-1,1)"
   ]
  },
  {
   "cell_type": "code",
   "execution_count": null,
   "id": "63b91356-8fc9-4c2a-ba05-e233f347a3b6",
   "metadata": {},
   "outputs": [],
   "source": []
  },
  {
   "cell_type": "code",
   "execution_count": null,
   "id": "33ef88b1-d5f7-4f3e-ae75-b2e120b3f48b",
   "metadata": {},
   "outputs": [],
   "source": []
  }
 ],
 "metadata": {
  "kernelspec": {
   "display_name": "Python 3 (ipykernel)",
   "language": "python",
   "name": "python3"
  },
  "language_info": {
   "codemirror_mode": {
    "name": "ipython",
    "version": 3
   },
   "file_extension": ".py",
   "mimetype": "text/x-python",
   "name": "python",
   "nbconvert_exporter": "python",
   "pygments_lexer": "ipython3",
   "version": "3.8.13"
  }
 },
 "nbformat": 4,
 "nbformat_minor": 5
}
