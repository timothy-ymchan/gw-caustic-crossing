{
 "cells": [
  {
   "cell_type": "markdown",
   "id": "5fab6d6e-2676-4519-b971-156aab8ccc81",
   "metadata": {},
   "source": [
    "# Visualizing complex integration and the change of variable\n",
    "Let \n",
    "1. $C: [0,1]\\to \\mathbb{C}$ be a smooth curve defined on the complex plane\n",
    "2. $f(z),g(z) : \\mathbb{C} \\to \\mathbb{C}$ be analytic functions\n",
    "\n",
    "Then the change of variable theorem says that:\n",
    "$$\n",
    "\\int_C f(g(z)) g'(z) dz = \\int_{C'} f(g) dg\n",
    "$$\n",
    "where $C' = g\\circ C$"
   ]
  },
  {
   "cell_type": "markdown",
   "id": "21f1e0f2-a1dc-40ac-bcbc-56841a48dcb4",
   "metadata": {},
   "source": [
    "To verify the theorem, consider the following integral:\n",
    "$$\n",
    "\\int_C 2z\\cos(z^2) dz\n",
    "$$\n",
    "where $C(t) = a + (b-a)t$ and $a,b\\in\\mathbb{C}$ and $t\\in[0,1]$"
   ]
  },
  {
   "cell_type": "code",
   "execution_count": 2,
   "id": "088fcc3b-0257-4f50-a8a4-012ff5f0c288",
   "metadata": {},
   "outputs": [],
   "source": [
    "import numpy as np\n",
    "import matplotlib.pyplot as plt"
   ]
  },
  {
   "cell_type": "code",
   "execution_count": 30,
   "id": "7a2bfdd9-1f82-4580-a1a7-3ad9f110fd6e",
   "metadata": {},
   "outputs": [],
   "source": [
    "ri = lambda c: (np.real(c), np.imag(c))"
   ]
  },
  {
   "cell_type": "code",
   "execution_count": 5,
   "id": "66231297-dbc7-40ba-8d10-901f0afe8ed1",
   "metadata": {},
   "outputs": [],
   "source": [
    "def C(t,a,b):\n",
    "    assert 0<= t.all() and t.all()<=1, \"C is defined only in [0,1]\"\n",
    "    return a+(b-a)*t"
   ]
  },
  {
   "cell_type": "code",
   "execution_count": 50,
   "id": "4b73b61c-5add-4c2c-8191-77c4211aa7c9",
   "metadata": {},
   "outputs": [],
   "source": [
    "def f(z):\n",
    "    return 2*z*np.cos(z**2)"
   ]
  },
  {
   "cell_type": "code",
   "execution_count": 62,
   "id": "024ab706-b29c-49bc-8abf-b7bdfd718953",
   "metadata": {},
   "outputs": [],
   "source": [
    "def g(z):\n",
    "    return z**2"
   ]
  },
  {
   "cell_type": "code",
   "execution_count": 63,
   "id": "9f5d9015-6921-49f7-a027-0949a964beff",
   "metadata": {},
   "outputs": [],
   "source": [
    "def h(z):\n",
    "    return np.cos(z)"
   ]
  },
  {
   "cell_type": "code",
   "execution_count": 55,
   "id": "c7dca27b-aa54-487e-8344-5ba754b65aac",
   "metadata": {},
   "outputs": [],
   "source": [
    "def contour_int(func,curve):\n",
    "    dcurve = curve[1:]-curve[:-1]\n",
    "    mcurve = 0.5*(curve[1:]+curve[:-1])\n",
    "    return np.sum(func(mcurve)*dcurve)"
   ]
  },
  {
   "cell_type": "code",
   "execution_count": 95,
   "id": "61fe31f2-8bf7-425e-ada2-50e756e25481",
   "metadata": {},
   "outputs": [],
   "source": [
    "a0, b0 = 0, 1+1j\n",
    "t = np.linspace(0,1,5000)\n",
    "C0 = C(t,a0,b0)"
   ]
  },
  {
   "cell_type": "code",
   "execution_count": 96,
   "id": "2bfd25a7-a1a4-4aea-981b-90fa60277121",
   "metadata": {},
   "outputs": [
    {
     "data": {
      "image/png": "[encoded data removed]",
      "text/plain": [
       "<Figure size 432x288 with 2 Axes>"
      ]
     },
     "metadata": {
      "needs_background": "light"
     },
     "output_type": "display_data"
    }
   ],
   "source": [
    "fig,axs = plt.subplots(ncols=2)\n",
    "axs[0].plot(*ri(C0))\n",
    "axs[0].plot(*ri(a0),marker='o',markersize=8)\n",
    "axs[0].plot(*ri(b0),marker='s',markersize=8)\n",
    "#axs[0].set_aspect('equal')\n",
    "axs[0].set_xlabel(r'Real $\\mathbb{R}$')\n",
    "axs[0].set_ylabel(r'Imaginary $\\mathbb{I}$')\n",
    "axs[0].grid()\n",
    "\n",
    "\n",
    "axs[1].plot(*ri(g(C0)))\n",
    "axs[1].plot(*ri(g(a0)),marker='o',markersize=8)\n",
    "axs[1].plot(*ri(g(b0)),marker='s',markersize=8)\n",
    "#axs[1].set_aspect('equal')\n",
    "axs[1].set_xlabel(r'Real $\\mathbb{R}$')\n",
    "axs[1].grid()"
   ]
  },
  {
   "cell_type": "code",
   "execution_count": 97,
   "id": "ddd0a2e9-c892-4000-949c-3e70562cd078",
   "metadata": {},
   "outputs": [
    {
     "data": {
      "text/plain": [
       "3.626860292670042j"
      ]
     },
     "execution_count": 97,
     "metadata": {},
     "output_type": "execute_result"
    }
   ],
   "source": [
    "contour_int(f,C0)"
   ]
  },
  {
   "cell_type": "code",
   "execution_count": 98,
   "id": "741f61df-179c-4f85-a3fb-a4a81a4f6e7e",
   "metadata": {},
   "outputs": [
    {
     "data": {
      "text/plain": [
       "3.6268603479360584j"
      ]
     },
     "execution_count": 98,
     "metadata": {},
     "output_type": "execute_result"
    }
   ],
   "source": [
    "contour_int(h,g(C0))"
   ]
  },
  {
   "cell_type": "code",
   "execution_count": null,
   "id": "f8a56832-dfbd-40fe-b91c-be9edf87b32d",
   "metadata": {},
   "outputs": [],
   "source": []
  }
 ],
 "metadata": {
  "kernelspec": {
   "display_name": "Python 3 (ipykernel)",
   "language": "python",
   "name": "python3"
  },
  "language_info": {
   "codemirror_mode": {
    "name": "ipython",
    "version": 3
   },
   "file_extension": ".py",
   "mimetype": "text/x-python",
   "name": "python",
   "nbconvert_exporter": "python",
   "pygments_lexer": "ipython3",
   "version": "3.8.13"
  }
 },
 "nbformat": 4,
 "nbformat_minor": 5
}
